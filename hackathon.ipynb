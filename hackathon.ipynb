{
 "cells": [
  {
   "cell_type": "markdown",
   "metadata": {},
   "source": [
    "# The aim of this project is to identify the customers that are more inclined to opt for credit card."
   ]
  },
  {
   "cell_type": "markdown",
   "metadata": {},
   "source": [
    "Variable Definition for train data\n",
    "\n",
    "ID -->Unique Identifier for a row\n",
    "\n",
    "Gender-->Gender of the Customer\n",
    "\n",
    "Age-->Age of the Customer (in Years)\n",
    "\n",
    "Region_Code-->Code of the Region for the customers\n",
    "\n",
    "Occupation-->Occupation Type for the customer\n",
    "\n",
    "Channel_Code-->Acquisition Channel Code for the Customer  (Encoded)\n",
    "\n",
    "Vintage-->Vintage for the Customer (In Months)\n",
    "\n",
    "Credit_Product-->If the Customer has any active credit product (Home loan,Personal loan, Credit Card etc.)\n",
    "\n",
    "Avg_Account_Balance-->Average Account Balance for the Customer in last 12 Months\n",
    "\n",
    "Is_Active-->If the Customer is Active in last 3 Months\n",
    "\n",
    "Is_Lead(Target)-->If the Customer is interested for the Credit Card-->0 : Customer is not interested\n",
    "                                                                   -->1 : Customer is interested"
   ]
  },
  {
   "cell_type": "code",
   "execution_count": 1,
   "metadata": {},
   "outputs": [],
   "source": [
    "    import pandas as pd\n",
    "    import numpy as np\n",
    "    import matplotlib.pyplot as plt\n",
    "    plt.rc(\"font\",size=14)\n",
    "    import seaborn as sns\n",
    "    sns.set(style=\"white\")\n",
    "    sns.set(style=\"whitegrid\", color_codes=True)"
   ]
  },
  {
   "cell_type": "code",
   "execution_count": 2,
   "metadata": {},
   "outputs": [],
   "source": [
    "import warnings\n",
    "warnings.filterwarnings(\"ignore\")\n"
   ]
  },
  {
   "cell_type": "code",
   "execution_count": 3,
   "metadata": {},
   "outputs": [
    {
     "data": {
      "text/plain": [
       "'C:\\\\Users\\\\shafat\\\\Documents\\\\Python Project\\\\Hackathon'"
      ]
     },
     "execution_count": 3,
     "metadata": {},
     "output_type": "execute_result"
    }
   ],
   "source": [
    "import os\n",
    "os.getcwd()"
   ]
  },
  {
   "cell_type": "code",
   "execution_count": 4,
   "metadata": {},
   "outputs": [
    {
     "data": {
      "text/html": [
       "<div>\n",
       "<style scoped>\n",
       "    .dataframe tbody tr th:only-of-type {\n",
       "        vertical-align: middle;\n",
       "    }\n",
       "\n",
       "    .dataframe tbody tr th {\n",
       "        vertical-align: top;\n",
       "    }\n",
       "\n",
       "    .dataframe thead th {\n",
       "        text-align: right;\n",
       "    }\n",
       "</style>\n",
       "<table border=\"1\" class=\"dataframe\">\n",
       "  <thead>\n",
       "    <tr style=\"text-align: right;\">\n",
       "      <th></th>\n",
       "      <th>Age</th>\n",
       "      <th>Avg_Account_Balance</th>\n",
       "      <th>Channel_Code</th>\n",
       "      <th>Credit_Product</th>\n",
       "      <th>Gender</th>\n",
       "      <th>ID</th>\n",
       "      <th>Is_Active</th>\n",
       "      <th>Is_Lead</th>\n",
       "      <th>Occupation</th>\n",
       "      <th>Region_Code</th>\n",
       "      <th>Vintage</th>\n",
       "      <th>train_test</th>\n",
       "    </tr>\n",
       "  </thead>\n",
       "  <tbody>\n",
       "    <tr>\n",
       "      <td>count</td>\n",
       "      <td>351037.000000</td>\n",
       "      <td>3.510370e+05</td>\n",
       "      <td>351037</td>\n",
       "      <td>309190</td>\n",
       "      <td>351037</td>\n",
       "      <td>351037</td>\n",
       "      <td>351037</td>\n",
       "      <td>245725.000000</td>\n",
       "      <td>351037</td>\n",
       "      <td>351037</td>\n",
       "      <td>351037.000000</td>\n",
       "      <td>351037.000000</td>\n",
       "    </tr>\n",
       "    <tr>\n",
       "      <td>unique</td>\n",
       "      <td>NaN</td>\n",
       "      <td>NaN</td>\n",
       "      <td>4</td>\n",
       "      <td>2</td>\n",
       "      <td>2</td>\n",
       "      <td>351037</td>\n",
       "      <td>2</td>\n",
       "      <td>NaN</td>\n",
       "      <td>4</td>\n",
       "      <td>35</td>\n",
       "      <td>NaN</td>\n",
       "      <td>NaN</td>\n",
       "    </tr>\n",
       "    <tr>\n",
       "      <td>top</td>\n",
       "      <td>NaN</td>\n",
       "      <td>NaN</td>\n",
       "      <td>X1</td>\n",
       "      <td>No</td>\n",
       "      <td>Male</td>\n",
       "      <td>RVWUNEBF</td>\n",
       "      <td>No</td>\n",
       "      <td>NaN</td>\n",
       "      <td>Self_Employed</td>\n",
       "      <td>RG268</td>\n",
       "      <td>NaN</td>\n",
       "      <td>NaN</td>\n",
       "    </tr>\n",
       "    <tr>\n",
       "      <td>freq</td>\n",
       "      <td>NaN</td>\n",
       "      <td>NaN</td>\n",
       "      <td>148202</td>\n",
       "      <td>205965</td>\n",
       "      <td>191902</td>\n",
       "      <td>1</td>\n",
       "      <td>214087</td>\n",
       "      <td>NaN</td>\n",
       "      <td>144078</td>\n",
       "      <td>51059</td>\n",
       "      <td>NaN</td>\n",
       "      <td>NaN</td>\n",
       "    </tr>\n",
       "    <tr>\n",
       "      <td>mean</td>\n",
       "      <td>43.860716</td>\n",
       "      <td>1.130141e+06</td>\n",
       "      <td>NaN</td>\n",
       "      <td>NaN</td>\n",
       "      <td>NaN</td>\n",
       "      <td>NaN</td>\n",
       "      <td>NaN</td>\n",
       "      <td>0.237208</td>\n",
       "      <td>NaN</td>\n",
       "      <td>NaN</td>\n",
       "      <td>46.924244</td>\n",
       "      <td>0.699997</td>\n",
       "    </tr>\n",
       "    <tr>\n",
       "      <td>std</td>\n",
       "      <td>14.841932</td>\n",
       "      <td>8.569530e+05</td>\n",
       "      <td>NaN</td>\n",
       "      <td>NaN</td>\n",
       "      <td>NaN</td>\n",
       "      <td>NaN</td>\n",
       "      <td>NaN</td>\n",
       "      <td>0.425372</td>\n",
       "      <td>NaN</td>\n",
       "      <td>NaN</td>\n",
       "      <td>32.329303</td>\n",
       "      <td>0.458259</td>\n",
       "    </tr>\n",
       "    <tr>\n",
       "      <td>min</td>\n",
       "      <td>23.000000</td>\n",
       "      <td>2.079000e+04</td>\n",
       "      <td>NaN</td>\n",
       "      <td>NaN</td>\n",
       "      <td>NaN</td>\n",
       "      <td>NaN</td>\n",
       "      <td>NaN</td>\n",
       "      <td>0.000000</td>\n",
       "      <td>NaN</td>\n",
       "      <td>NaN</td>\n",
       "      <td>7.000000</td>\n",
       "      <td>0.000000</td>\n",
       "    </tr>\n",
       "    <tr>\n",
       "      <td>25%</td>\n",
       "      <td>30.000000</td>\n",
       "      <td>6.041850e+05</td>\n",
       "      <td>NaN</td>\n",
       "      <td>NaN</td>\n",
       "      <td>NaN</td>\n",
       "      <td>NaN</td>\n",
       "      <td>NaN</td>\n",
       "      <td>0.000000</td>\n",
       "      <td>NaN</td>\n",
       "      <td>NaN</td>\n",
       "      <td>20.000000</td>\n",
       "      <td>0.000000</td>\n",
       "    </tr>\n",
       "    <tr>\n",
       "      <td>50%</td>\n",
       "      <td>43.000000</td>\n",
       "      <td>8.951620e+05</td>\n",
       "      <td>NaN</td>\n",
       "      <td>NaN</td>\n",
       "      <td>NaN</td>\n",
       "      <td>NaN</td>\n",
       "      <td>NaN</td>\n",
       "      <td>0.000000</td>\n",
       "      <td>NaN</td>\n",
       "      <td>NaN</td>\n",
       "      <td>32.000000</td>\n",
       "      <td>1.000000</td>\n",
       "    </tr>\n",
       "    <tr>\n",
       "      <td>75%</td>\n",
       "      <td>54.000000</td>\n",
       "      <td>1.368152e+06</td>\n",
       "      <td>NaN</td>\n",
       "      <td>NaN</td>\n",
       "      <td>NaN</td>\n",
       "      <td>NaN</td>\n",
       "      <td>NaN</td>\n",
       "      <td>0.000000</td>\n",
       "      <td>NaN</td>\n",
       "      <td>NaN</td>\n",
       "      <td>73.000000</td>\n",
       "      <td>1.000000</td>\n",
       "    </tr>\n",
       "    <tr>\n",
       "      <td>max</td>\n",
       "      <td>85.000000</td>\n",
       "      <td>1.035201e+07</td>\n",
       "      <td>NaN</td>\n",
       "      <td>NaN</td>\n",
       "      <td>NaN</td>\n",
       "      <td>NaN</td>\n",
       "      <td>NaN</td>\n",
       "      <td>1.000000</td>\n",
       "      <td>NaN</td>\n",
       "      <td>NaN</td>\n",
       "      <td>135.000000</td>\n",
       "      <td>1.000000</td>\n",
       "    </tr>\n",
       "  </tbody>\n",
       "</table>\n",
       "</div>"
      ],
      "text/plain": [
       "                  Age  Avg_Account_Balance Channel_Code Credit_Product  \\\n",
       "count   351037.000000         3.510370e+05       351037         309190   \n",
       "unique            NaN                  NaN            4              2   \n",
       "top               NaN                  NaN           X1             No   \n",
       "freq              NaN                  NaN       148202         205965   \n",
       "mean        43.860716         1.130141e+06          NaN            NaN   \n",
       "std         14.841932         8.569530e+05          NaN            NaN   \n",
       "min         23.000000         2.079000e+04          NaN            NaN   \n",
       "25%         30.000000         6.041850e+05          NaN            NaN   \n",
       "50%         43.000000         8.951620e+05          NaN            NaN   \n",
       "75%         54.000000         1.368152e+06          NaN            NaN   \n",
       "max         85.000000         1.035201e+07          NaN            NaN   \n",
       "\n",
       "        Gender        ID Is_Active        Is_Lead     Occupation Region_Code  \\\n",
       "count   351037    351037    351037  245725.000000         351037      351037   \n",
       "unique       2    351037         2            NaN              4          35   \n",
       "top       Male  RVWUNEBF        No            NaN  Self_Employed       RG268   \n",
       "freq    191902         1    214087            NaN         144078       51059   \n",
       "mean       NaN       NaN       NaN       0.237208            NaN         NaN   \n",
       "std        NaN       NaN       NaN       0.425372            NaN         NaN   \n",
       "min        NaN       NaN       NaN       0.000000            NaN         NaN   \n",
       "25%        NaN       NaN       NaN       0.000000            NaN         NaN   \n",
       "50%        NaN       NaN       NaN       0.000000            NaN         NaN   \n",
       "75%        NaN       NaN       NaN       0.000000            NaN         NaN   \n",
       "max        NaN       NaN       NaN       1.000000            NaN         NaN   \n",
       "\n",
       "              Vintage     train_test  \n",
       "count   351037.000000  351037.000000  \n",
       "unique            NaN            NaN  \n",
       "top               NaN            NaN  \n",
       "freq              NaN            NaN  \n",
       "mean        46.924244       0.699997  \n",
       "std         32.329303       0.458259  \n",
       "min          7.000000       0.000000  \n",
       "25%         20.000000       0.000000  \n",
       "50%         32.000000       1.000000  \n",
       "75%         73.000000       1.000000  \n",
       "max        135.000000       1.000000  "
      ]
     },
     "execution_count": 4,
     "metadata": {},
     "output_type": "execute_result"
    }
   ],
   "source": [
    "test_data = pd.read_csv(\"test.csv\")\n",
    "train_data = pd.read_csv(\"train.csv\")\n",
    "train_data['train_test'] = 1\n",
    "test_data['train_test'] = 0\n",
    "test_data['Is_Lead'] = np.NaN\n",
    "\n",
    "data = pd.concat([train_data, test_data], axis=0).reset_index(drop=True)\n",
    "data.describe(include='all')"
   ]
  },
  {
   "cell_type": "code",
   "execution_count": 5,
   "metadata": {},
   "outputs": [
    {
     "data": {
      "text/html": [
       "<div>\n",
       "<style scoped>\n",
       "    .dataframe tbody tr th:only-of-type {\n",
       "        vertical-align: middle;\n",
       "    }\n",
       "\n",
       "    .dataframe tbody tr th {\n",
       "        vertical-align: top;\n",
       "    }\n",
       "\n",
       "    .dataframe thead th {\n",
       "        text-align: right;\n",
       "    }\n",
       "</style>\n",
       "<table border=\"1\" class=\"dataframe\">\n",
       "  <thead>\n",
       "    <tr style=\"text-align: right;\">\n",
       "      <th></th>\n",
       "      <th>Age</th>\n",
       "      <th>Avg_Account_Balance</th>\n",
       "      <th>Channel_Code</th>\n",
       "      <th>Credit_Product</th>\n",
       "      <th>Gender</th>\n",
       "      <th>ID</th>\n",
       "      <th>Is_Active</th>\n",
       "      <th>Is_Lead</th>\n",
       "      <th>Occupation</th>\n",
       "      <th>Region_Code</th>\n",
       "      <th>Vintage</th>\n",
       "      <th>train_test</th>\n",
       "    </tr>\n",
       "  </thead>\n",
       "  <tbody>\n",
       "    <tr>\n",
       "      <td>0</td>\n",
       "      <td>73</td>\n",
       "      <td>1045696</td>\n",
       "      <td>X3</td>\n",
       "      <td>No</td>\n",
       "      <td>Female</td>\n",
       "      <td>NNVBBKZB</td>\n",
       "      <td>No</td>\n",
       "      <td>0.0</td>\n",
       "      <td>Other</td>\n",
       "      <td>RG268</td>\n",
       "      <td>43</td>\n",
       "      <td>1</td>\n",
       "    </tr>\n",
       "    <tr>\n",
       "      <td>1</td>\n",
       "      <td>30</td>\n",
       "      <td>581988</td>\n",
       "      <td>X1</td>\n",
       "      <td>No</td>\n",
       "      <td>Female</td>\n",
       "      <td>IDD62UNG</td>\n",
       "      <td>No</td>\n",
       "      <td>0.0</td>\n",
       "      <td>Salaried</td>\n",
       "      <td>RG277</td>\n",
       "      <td>32</td>\n",
       "      <td>1</td>\n",
       "    </tr>\n",
       "    <tr>\n",
       "      <td>2</td>\n",
       "      <td>56</td>\n",
       "      <td>1484315</td>\n",
       "      <td>X3</td>\n",
       "      <td>No</td>\n",
       "      <td>Female</td>\n",
       "      <td>HD3DSEMC</td>\n",
       "      <td>Yes</td>\n",
       "      <td>0.0</td>\n",
       "      <td>Self_Employed</td>\n",
       "      <td>RG268</td>\n",
       "      <td>26</td>\n",
       "      <td>1</td>\n",
       "    </tr>\n",
       "  </tbody>\n",
       "</table>\n",
       "</div>"
      ],
      "text/plain": [
       "   Age  Avg_Account_Balance Channel_Code Credit_Product  Gender        ID  \\\n",
       "0   73              1045696           X3             No  Female  NNVBBKZB   \n",
       "1   30               581988           X1             No  Female  IDD62UNG   \n",
       "2   56              1484315           X3             No  Female  HD3DSEMC   \n",
       "\n",
       "  Is_Active  Is_Lead     Occupation Region_Code  Vintage  train_test  \n",
       "0        No      0.0          Other       RG268       43           1  \n",
       "1        No      0.0       Salaried       RG277       32           1  \n",
       "2       Yes      0.0  Self_Employed       RG268       26           1  "
      ]
     },
     "execution_count": 5,
     "metadata": {},
     "output_type": "execute_result"
    }
   ],
   "source": [
    "data.head(3)"
   ]
  },
  {
   "cell_type": "code",
   "execution_count": 6,
   "metadata": {},
   "outputs": [
    {
     "data": {
      "text/plain": [
       "Age                         0\n",
       "Avg_Account_Balance         0\n",
       "Channel_Code                0\n",
       "Credit_Product          41847\n",
       "Gender                      0\n",
       "ID                          0\n",
       "Is_Active                   0\n",
       "Is_Lead                105312\n",
       "Occupation                  0\n",
       "Region_Code                 0\n",
       "Vintage                     0\n",
       "train_test                  0\n",
       "dtype: int64"
      ]
     },
     "execution_count": 6,
     "metadata": {},
     "output_type": "execute_result"
    }
   ],
   "source": [
    "data.isnull().sum()"
   ]
  },
  {
   "cell_type": "code",
   "execution_count": 7,
   "metadata": {},
   "outputs": [
    {
     "name": "stdout",
     "output_type": "stream",
     "text": [
      "percent of missing values in age is 11.92\n"
     ]
    },
    {
     "data": {
      "text/plain": [
       "No     205965\n",
       "Yes    103225\n",
       "Name: Credit_Product, dtype: int64"
      ]
     },
     "execution_count": 7,
     "metadata": {},
     "output_type": "execute_result"
    }
   ],
   "source": [
    "print(\"percent of missing values in age is %.2f\"%((data['Credit_Product'].isnull().sum()/data.shape[0])*100))\n",
    "data['Credit_Product'].value_counts()"
   ]
  },
  {
   "cell_type": "code",
   "execution_count": 8,
   "metadata": {},
   "outputs": [
    {
     "name": "stdout",
     "output_type": "stream",
     "text": [
      "<class 'pandas.core.frame.DataFrame'>\n",
      "RangeIndex: 351037 entries, 0 to 351036\n",
      "Data columns (total 12 columns):\n",
      "Age                    351037 non-null int64\n",
      "Avg_Account_Balance    351037 non-null int64\n",
      "Channel_Code           351037 non-null object\n",
      "Credit_Product         309190 non-null object\n",
      "Gender                 351037 non-null object\n",
      "ID                     351037 non-null object\n",
      "Is_Active              351037 non-null object\n",
      "Is_Lead                245725 non-null float64\n",
      "Occupation             351037 non-null object\n",
      "Region_Code            351037 non-null object\n",
      "Vintage                351037 non-null int64\n",
      "train_test             351037 non-null int64\n",
      "dtypes: float64(1), int64(4), object(7)\n",
      "memory usage: 32.1+ MB\n"
     ]
    }
   ],
   "source": [
    "data.info()"
   ]
  },
  {
   "cell_type": "code",
   "execution_count": 9,
   "metadata": {},
   "outputs": [
    {
     "name": "stdout",
     "output_type": "stream",
     "text": [
      "No         205965\n",
      "Yes        103225\n",
      "unknown     41847\n",
      "Name: Credit_Product, dtype: int64\n"
     ]
    }
   ],
   "source": [
    "#Replacing Credit product with unknwon\n",
    "data['Credit_Product'].replace(np.NaN, 'unknown', inplace=True)\n",
    "print(data['Credit_Product'].value_counts())"
   ]
  },
  {
   "cell_type": "code",
   "execution_count": 10,
   "metadata": {},
   "outputs": [],
   "source": [
    "data.columns\n",
    "cat_df=data[['Gender','Region_Code', 'Occupation', 'Channel_Code','Credit_Product', 'Is_Active']]\n",
    "num_df=data[['Age','Vintage','Avg_Account_Balance']]\n",
    "\n"
   ]
  },
  {
   "cell_type": "code",
   "execution_count": 11,
   "metadata": {},
   "outputs": [
    {
     "data": {
      "image/png": "[encoded data removed]",
      "text/plain": [
       "<Figure size 432x288 with 1 Axes>"
      ]
     },
     "metadata": {
      "needs_background": "light"
     },
     "output_type": "display_data"
    },
    {
     "data": {
      "image/png": "[encoded data removed]",
      "text/plain": [
       "<Figure size 432x288 with 1 Axes>"
      ]
     },
     "metadata": {
      "needs_background": "light"
     },
     "output_type": "display_data"
    },
    {
     "data": {
      "image/png": "[encoded data removed]",
      "text/plain": [
       "<Figure size 432x288 with 1 Axes>"
      ]
     },
     "metadata": {
      "needs_background": "light"
     },
     "output_type": "display_data"
    }
   ],
   "source": [
    "for i in num_df.columns:\n",
    "    plt.hist(num_df[i])\n",
    "    plt.title(i)\n",
    "    plt.show()"
   ]
  },
  {
   "cell_type": "markdown",
   "metadata": {},
   "source": [
    "Cramer's V correlation matrix"
   ]
  },
  {
   "cell_type": "code",
   "execution_count": 12,
   "metadata": {},
   "outputs": [],
   "source": [
    "from sklearn import preprocessing\n",
    "\n",
    "label = preprocessing.LabelEncoder()\n",
    "data_encoded = pd.DataFrame() \n",
    "\n",
    "for i in cat_df.columns :\n",
    "    data_encoded[i]=label.fit_transform(cat_df[i])"
   ]
  },
  {
   "cell_type": "code",
   "execution_count": 13,
   "metadata": {},
   "outputs": [
    {
     "data": {
      "text/html": [
       "<div>\n",
       "<style scoped>\n",
       "    .dataframe tbody tr th:only-of-type {\n",
       "        vertical-align: middle;\n",
       "    }\n",
       "\n",
       "    .dataframe tbody tr th {\n",
       "        vertical-align: top;\n",
       "    }\n",
       "\n",
       "    .dataframe thead th {\n",
       "        text-align: right;\n",
       "    }\n",
       "</style>\n",
       "<table border=\"1\" class=\"dataframe\">\n",
       "  <thead>\n",
       "    <tr style=\"text-align: right;\">\n",
       "      <th></th>\n",
       "      <th>Gender</th>\n",
       "      <th>Region_Code</th>\n",
       "      <th>Occupation</th>\n",
       "      <th>Channel_Code</th>\n",
       "      <th>Credit_Product</th>\n",
       "      <th>Is_Active</th>\n",
       "    </tr>\n",
       "  </thead>\n",
       "  <tbody>\n",
       "    <tr>\n",
       "      <td>0</td>\n",
       "      <td>0</td>\n",
       "      <td>18</td>\n",
       "      <td>1</td>\n",
       "      <td>2</td>\n",
       "      <td>0</td>\n",
       "      <td>0</td>\n",
       "    </tr>\n",
       "    <tr>\n",
       "      <td>1</td>\n",
       "      <td>0</td>\n",
       "      <td>27</td>\n",
       "      <td>2</td>\n",
       "      <td>0</td>\n",
       "      <td>0</td>\n",
       "      <td>0</td>\n",
       "    </tr>\n",
       "    <tr>\n",
       "      <td>2</td>\n",
       "      <td>0</td>\n",
       "      <td>18</td>\n",
       "      <td>3</td>\n",
       "      <td>2</td>\n",
       "      <td>0</td>\n",
       "      <td>1</td>\n",
       "    </tr>\n",
       "    <tr>\n",
       "      <td>3</td>\n",
       "      <td>1</td>\n",
       "      <td>20</td>\n",
       "      <td>2</td>\n",
       "      <td>0</td>\n",
       "      <td>0</td>\n",
       "      <td>0</td>\n",
       "    </tr>\n",
       "    <tr>\n",
       "      <td>4</td>\n",
       "      <td>0</td>\n",
       "      <td>32</td>\n",
       "      <td>2</td>\n",
       "      <td>0</td>\n",
       "      <td>0</td>\n",
       "      <td>0</td>\n",
       "    </tr>\n",
       "  </tbody>\n",
       "</table>\n",
       "</div>"
      ],
      "text/plain": [
       "   Gender  Region_Code  Occupation  Channel_Code  Credit_Product  Is_Active\n",
       "0       0           18           1             2               0          0\n",
       "1       0           27           2             0               0          0\n",
       "2       0           18           3             2               0          1\n",
       "3       1           20           2             0               0          0\n",
       "4       0           32           2             0               0          0"
      ]
     },
     "execution_count": 13,
     "metadata": {},
     "output_type": "execute_result"
    }
   ],
   "source": [
    "data_encoded.head()"
   ]
  },
  {
   "cell_type": "code",
   "execution_count": 14,
   "metadata": {},
   "outputs": [],
   "source": [
    "from scipy.stats import chi2_contingency\n",
    "import numpy as np\n",
    "\n",
    "\n",
    "\n",
    "\n",
    "def cramers_V(var1,var2) :\n",
    "    crosstab =np.array(pd.crosstab(var1,var2, rownames=None, colnames=None)) # Cross table building\n",
    "    stat = chi2_contingency(crosstab)[0] # Keeping of the test statistic of the Chi2 test\n",
    "    obs = np.sum(crosstab) # Number of observations\n",
    "    mini = min(crosstab.shape)-1 # Take the minimum value between the columns and the rows of the cross table\n",
    "    return (stat/(obs*mini))"
   ]
  },
  {
   "cell_type": "code",
   "execution_count": 15,
   "metadata": {},
   "outputs": [],
   "source": [
    "rows= []\n",
    "\n",
    "for var1 in data_encoded:\n",
    "    col = []\n",
    "    for var2 in data_encoded :\n",
    "        cramers =cramers_V(data_encoded[var1], data_encoded[var2]) # Cramer's V test\n",
    "        col.append(round(cramers,2)) # Keeping of the rounded value of the Cramer's V  \n",
    "    rows.append(col)\n",
    "cramers_results = np.array(rows)\n",
    "df = pd.DataFrame(cramers_results, columns = data_encoded.columns, index =data_encoded.columns)"
   ]
  },
  {
   "cell_type": "code",
   "execution_count": 16,
   "metadata": {},
   "outputs": [
    {
     "data": {
      "text/html": [
       "<div>\n",
       "<style scoped>\n",
       "    .dataframe tbody tr th:only-of-type {\n",
       "        vertical-align: middle;\n",
       "    }\n",
       "\n",
       "    .dataframe tbody tr th {\n",
       "        vertical-align: top;\n",
       "    }\n",
       "\n",
       "    .dataframe thead th {\n",
       "        text-align: right;\n",
       "    }\n",
       "</style>\n",
       "<table border=\"1\" class=\"dataframe\">\n",
       "  <thead>\n",
       "    <tr style=\"text-align: right;\">\n",
       "      <th></th>\n",
       "      <th>Gender</th>\n",
       "      <th>Region_Code</th>\n",
       "      <th>Occupation</th>\n",
       "      <th>Channel_Code</th>\n",
       "      <th>Credit_Product</th>\n",
       "      <th>Is_Active</th>\n",
       "    </tr>\n",
       "  </thead>\n",
       "  <tbody>\n",
       "    <tr>\n",
       "      <td>Gender</td>\n",
       "      <td>1.00</td>\n",
       "      <td>0.00</td>\n",
       "      <td>0.02</td>\n",
       "      <td>0.03</td>\n",
       "      <td>0.01</td>\n",
       "      <td>0.00</td>\n",
       "    </tr>\n",
       "    <tr>\n",
       "      <td>Region_Code</td>\n",
       "      <td>0.00</td>\n",
       "      <td>1.00</td>\n",
       "      <td>0.02</td>\n",
       "      <td>0.03</td>\n",
       "      <td>0.01</td>\n",
       "      <td>0.04</td>\n",
       "    </tr>\n",
       "    <tr>\n",
       "      <td>Occupation</td>\n",
       "      <td>0.02</td>\n",
       "      <td>0.02</td>\n",
       "      <td>1.00</td>\n",
       "      <td>0.13</td>\n",
       "      <td>0.03</td>\n",
       "      <td>0.05</td>\n",
       "    </tr>\n",
       "    <tr>\n",
       "      <td>Channel_Code</td>\n",
       "      <td>0.03</td>\n",
       "      <td>0.03</td>\n",
       "      <td>0.13</td>\n",
       "      <td>1.00</td>\n",
       "      <td>0.06</td>\n",
       "      <td>0.09</td>\n",
       "    </tr>\n",
       "    <tr>\n",
       "      <td>Credit_Product</td>\n",
       "      <td>0.01</td>\n",
       "      <td>0.01</td>\n",
       "      <td>0.03</td>\n",
       "      <td>0.06</td>\n",
       "      <td>1.00</td>\n",
       "      <td>0.01</td>\n",
       "    </tr>\n",
       "    <tr>\n",
       "      <td>Is_Active</td>\n",
       "      <td>0.00</td>\n",
       "      <td>0.04</td>\n",
       "      <td>0.05</td>\n",
       "      <td>0.09</td>\n",
       "      <td>0.01</td>\n",
       "      <td>1.00</td>\n",
       "    </tr>\n",
       "  </tbody>\n",
       "</table>\n",
       "</div>"
      ],
      "text/plain": [
       "                Gender  Region_Code  Occupation  Channel_Code  Credit_Product  \\\n",
       "Gender            1.00         0.00        0.02          0.03            0.01   \n",
       "Region_Code       0.00         1.00        0.02          0.03            0.01   \n",
       "Occupation        0.02         0.02        1.00          0.13            0.03   \n",
       "Channel_Code      0.03         0.03        0.13          1.00            0.06   \n",
       "Credit_Product    0.01         0.01        0.03          0.06            1.00   \n",
       "Is_Active         0.00         0.04        0.05          0.09            0.01   \n",
       "\n",
       "                Is_Active  \n",
       "Gender               0.00  \n",
       "Region_Code          0.04  \n",
       "Occupation           0.05  \n",
       "Channel_Code         0.09  \n",
       "Credit_Product       0.01  \n",
       "Is_Active            1.00  "
      ]
     },
     "execution_count": 16,
     "metadata": {},
     "output_type": "execute_result"
    }
   ],
   "source": [
    "df"
   ]
  },
  {
   "cell_type": "code",
   "execution_count": 17,
   "metadata": {},
   "outputs": [
    {
     "data": {
      "image/png": "[encoded data removed]",
      "text/plain": [
       "<Figure size 432x288 with 2 Axes>"
      ]
     },
     "metadata": {},
     "output_type": "display_data"
    }
   ],
   "source": [
    "mask = np.zeros_like(df, dtype=np.bool)\n",
    "mask[np.triu_indices_from(mask)] = True\n",
    "\n",
    "\n",
    "\n",
    "\n",
    "with sns.axes_style(\"white\"):\n",
    "    ax = sns.heatmap(df, mask=mask,vmin=0., vmax=1, square=True)\n",
    "\n",
    "plt.show()"
   ]
  },
  {
   "cell_type": "code",
   "execution_count": 18,
   "metadata": {},
   "outputs": [
    {
     "data": {
      "image/png": "[encoded data removed]",
      "text/plain": [
       "<Figure size 432x288 with 1 Axes>"
      ]
     },
     "metadata": {
      "needs_background": "light"
     },
     "output_type": "display_data"
    },
    {
     "data": {
      "image/png": "[encoded data removed]",
      "text/plain": [
       "<Figure size 432x288 with 1 Axes>"
      ]
     },
     "metadata": {
      "needs_background": "light"
     },
     "output_type": "display_data"
    },
    {
     "data": {
      "image/png": "[encoded data removed]",
      "text/plain": [
       "<Figure size 432x288 with 1 Axes>"
      ]
     },
     "metadata": {
      "needs_background": "light"
     },
     "output_type": "display_data"
    },
    {
     "data": {
      "image/png": "[encoded data removed]",
      "text/plain": [
       "<Figure size 432x288 with 1 Axes>"
      ]
     },
     "metadata": {
      "needs_background": "light"
     },
     "output_type": "display_data"
    },
    {
     "data": {
      "image/png": "[encoded data removed]",
      "text/plain": [
       "<Figure size 432x288 with 1 Axes>"
      ]
     },
     "metadata": {
      "needs_background": "light"
     },
     "output_type": "display_data"
    },
    {
     "data": {
      "image/png": "[encoded data removed]",
      "text/plain": [
       "<Figure size 432x288 with 1 Axes>"
      ]
     },
     "metadata": {
      "needs_background": "light"
     },
     "output_type": "display_data"
    }
   ],
   "source": [
    "#barplots for all the categorical features\n",
    "for i in cat_df.columns:\n",
    "    sns.barplot(cat_df[i].value_counts().index,cat_df[i].value_counts()).set_title(i)\n",
    "    plt.show()"
   ]
  },
  {
   "cell_type": "code",
   "execution_count": 19,
   "metadata": {},
   "outputs": [
    {
     "name": "stdout",
     "output_type": "stream",
     "text": [
      "Occupation  Entrepreneur  Other  Salaried  Self_Employed\n",
      "Is_Lead                                                 \n",
      "0.0                  905  52984     60503          73045\n",
      "1.0                 1762  17189     11496          27841\n",
      "\n",
      "Gender   Female   Male\n",
      "Is_Lead               \n",
      "0.0       88823  98614\n",
      "1.0       22705  35583\n",
      "\n",
      "Region_Code  RG250  RG251  RG252  RG253  RG254  RG255  RG256  RG257  RG258  \\\n",
      "Is_Lead                                                                      \n",
      "0.0           2103   4569   3694   1377  21127   1549   2446   4931   1521   \n",
      "1.0            393   1381    592    481   5713    469    401   1170    430   \n",
      "\n",
      "Region_Code  RG259  ...  RG275  RG276  RG277  RG278  RG279  RG280  RG281  \\\n",
      "Is_Lead             ...                                                    \n",
      "0.0           2085  ...   2702   1996   9851   1422   3079   9766   3979   \n",
      "1.0            501  ...    543    768   2975    400    897   3009   1114   \n",
      "\n",
      "Region_Code  RG282  RG283  RG284  \n",
      "Is_Lead                           \n",
      "0.0           4709  20531  13504  \n",
      "1.0           1120   8885   5816  \n",
      "\n",
      "[2 rows x 35 columns]\n",
      "\n",
      "Is_Active      No    Yes\n",
      "Is_Lead                 \n",
      "0.0        119007  68430\n",
      "1.0         31283  27005\n",
      "\n",
      "Credit_Product      No    Yes  unknown\n",
      "Is_Lead                               \n",
      "0.0             133734  49353     4350\n",
      "1.0              10623  22690    24975\n",
      "\n",
      "Channel_Code     X1     X2     X3    X4\n",
      "Is_Lead                                \n",
      "0.0           94236  45519  43493  4189\n",
      "1.0            9482  22207  25219  1380\n"
     ]
    }
   ],
   "source": [
    "print(pd.pivot_table(data, index = 'Is_Lead', columns = 'Occupation', values = 'Avg_Account_Balance' ,aggfunc ='count'))\n",
    "print()\n",
    "print(pd.pivot_table(data, index = 'Is_Lead', columns = 'Gender', values = 'Avg_Account_Balance' ,aggfunc ='count'))\n",
    "print()\n",
    "print(pd.pivot_table(data, index = 'Is_Lead', columns = 'Region_Code', values = 'Avg_Account_Balance' ,aggfunc ='count'))\n",
    "print()\n",
    "print(pd.pivot_table(data, index = 'Is_Lead', columns = 'Is_Active', values = 'Avg_Account_Balance' ,aggfunc ='count'))\n",
    "print()\n",
    "print(pd.pivot_table(data, index = 'Is_Lead', columns = 'Credit_Product', values = 'Avg_Account_Balance' ,aggfunc ='count'))\n",
    "print()\n",
    "print(pd.pivot_table(data, index = 'Is_Lead', columns = 'Channel_Code', values = 'Avg_Account_Balance' ,aggfunc ='count'))"
   ]
  },
  {
   "cell_type": "code",
   "execution_count": 20,
   "metadata": {},
   "outputs": [
    {
     "data": {
      "text/html": [
       "<div>\n",
       "<style scoped>\n",
       "    .dataframe tbody tr th:only-of-type {\n",
       "        vertical-align: middle;\n",
       "    }\n",
       "\n",
       "    .dataframe tbody tr th {\n",
       "        vertical-align: top;\n",
       "    }\n",
       "\n",
       "    .dataframe thead th {\n",
       "        text-align: right;\n",
       "    }\n",
       "</style>\n",
       "<table border=\"1\" class=\"dataframe\">\n",
       "  <thead>\n",
       "    <tr style=\"text-align: right;\">\n",
       "      <th></th>\n",
       "      <th>Age</th>\n",
       "      <th>Vintage</th>\n",
       "      <th>Avg_Account_Balance</th>\n",
       "    </tr>\n",
       "  </thead>\n",
       "  <tbody>\n",
       "    <tr>\n",
       "      <td>Age</td>\n",
       "      <td>1.000000</td>\n",
       "      <td>0.628558</td>\n",
       "      <td>0.142563</td>\n",
       "    </tr>\n",
       "    <tr>\n",
       "      <td>Vintage</td>\n",
       "      <td>0.628558</td>\n",
       "      <td>1.000000</td>\n",
       "      <td>0.166611</td>\n",
       "    </tr>\n",
       "    <tr>\n",
       "      <td>Avg_Account_Balance</td>\n",
       "      <td>0.142563</td>\n",
       "      <td>0.166611</td>\n",
       "      <td>1.000000</td>\n",
       "    </tr>\n",
       "  </tbody>\n",
       "</table>\n",
       "</div>"
      ],
      "text/plain": [
       "                          Age   Vintage  Avg_Account_Balance\n",
       "Age                  1.000000  0.628558             0.142563\n",
       "Vintage              0.628558  1.000000             0.166611\n",
       "Avg_Account_Balance  0.142563  0.166611             1.000000"
      ]
     },
     "execution_count": 20,
     "metadata": {},
     "output_type": "execute_result"
    }
   ],
   "source": [
    "num_df.corr()"
   ]
  },
  {
   "cell_type": "code",
   "execution_count": 21,
   "metadata": {},
   "outputs": [
    {
     "data": {
      "text/plain": [
       "<matplotlib.axes._subplots.AxesSubplot at 0x1ff5e06f388>"
      ]
     },
     "execution_count": 21,
     "metadata": {},
     "output_type": "execute_result"
    },
    {
     "data": {
      "image/png": "[encoded data removed]",
      "text/plain": [
       "<Figure size 432x288 with 2 Axes>"
      ]
     },
     "metadata": {
      "needs_background": "light"
     },
     "output_type": "display_data"
    }
   ],
   "source": [
    "sns.heatmap(num_df.corr())"
   ]
  },
  {
   "cell_type": "code",
   "execution_count": 22,
   "metadata": {},
   "outputs": [
    {
     "data": {
      "text/plain": [
       "<matplotlib.axes._subplots.AxesSubplot at 0x1ff5c5b9408>"
      ]
     },
     "execution_count": 22,
     "metadata": {},
     "output_type": "execute_result"
    },
    {
     "data": {
      "image/png": "[encoded data removed]",
      "text/plain": [
       "<Figure size 432x288 with 1 Axes>"
      ]
     },
     "metadata": {
      "needs_background": "light"
     },
     "output_type": "display_data"
    }
   ],
   "source": [
    "data['Avg_Account_Balance'] = np.log(data.Avg_Account_Balance+1)\n",
    "data['Avg_Account_Balance'].hist()\n",
    "\n"
   ]
  },
  {
   "cell_type": "code",
   "execution_count": 23,
   "metadata": {},
   "outputs": [
    {
     "data": {
      "text/plain": [
       "Index(['Age', 'Avg_Account_Balance', 'Channel_Code', 'Credit_Product',\n",
       "       'Gender', 'ID', 'Is_Active', 'Is_Lead', 'Occupation', 'Region_Code',\n",
       "       'Vintage', 'train_test'],\n",
       "      dtype='object')"
      ]
     },
     "execution_count": 23,
     "metadata": {},
     "output_type": "execute_result"
    }
   ],
   "source": [
    "data.columns"
   ]
  },
  {
   "cell_type": "code",
   "execution_count": 24,
   "metadata": {},
   "outputs": [],
   "source": [
    "#created dummy variables from categories (also can use OneHotEncoder)\n",
    "data_dummy = pd.get_dummies(data[['Age', 'Avg_Account_Balance', 'Channel_Code', 'Credit_Product',\n",
    "       'Gender','Is_Active', 'Is_Lead', 'Occupation', 'Region_Code',\n",
    "       'Vintage', 'train_test']])"
   ]
  },
  {
   "cell_type": "code",
   "execution_count": 25,
   "metadata": {},
   "outputs": [],
   "source": [
    "X_train = data_dummy[data_dummy.train_test == 1].drop(['train_test'], axis =1)\n",
    "X_test = data_dummy[data_dummy.train_test == 0].drop(['train_test'], axis =1)"
   ]
  },
  {
   "cell_type": "code",
   "execution_count": 26,
   "metadata": {},
   "outputs": [
    {
     "data": {
      "text/plain": [
       "(245725,)"
      ]
     },
     "execution_count": 26,
     "metadata": {},
     "output_type": "execute_result"
    }
   ],
   "source": [
    "y_train = data[data.train_test==1].Is_Lead\n",
    "y_train.shape"
   ]
  },
  {
   "cell_type": "code",
   "execution_count": 27,
   "metadata": {},
   "outputs": [
    {
     "data": {
      "text/plain": [
       "0    0.0\n",
       "1    0.0\n",
       "2    0.0\n",
       "3    0.0\n",
       "Name: Is_Lead, dtype: float64"
      ]
     },
     "execution_count": 27,
     "metadata": {},
     "output_type": "execute_result"
    }
   ],
   "source": [
    "y_train.head(4)"
   ]
  },
  {
   "cell_type": "code",
   "execution_count": 28,
   "metadata": {},
   "outputs": [],
   "source": [
    "from sklearn.preprocessing import StandardScaler ,LabelEncoder, OneHotEncoder\n",
    "from sklearn.linear_model import LogisticRegression \n",
    "from sklearn import svm \n",
    "from sklearn.ensemble import RandomForestClassifier \n",
    "from sklearn.neighbors import KNeighborsClassifier \n",
    "from sklearn.naive_bayes import GaussianNB \n",
    "from sklearn.tree import DecisionTreeClassifier \n",
    "from sklearn.model_selection import train_test_split \n",
    "from sklearn import metrics \n",
    "from sklearn.metrics import confusion_matrix ,classification_report"
   ]
  },
  {
   "cell_type": "code",
   "execution_count": 29,
   "metadata": {},
   "outputs": [],
   "source": [
    "scale = StandardScaler()\n",
    "data_dummies_scaled = data_dummy.copy()\n",
    "data_dummies_scaled[['Age','Avg_Account_Balance','Vintage']]= scale.fit_transform(data_dummies_scaled[['Age','Avg_Account_Balance','Vintage']])\n",
    "data_dummies_scaled\n",
    "\n",
    "X_train_scaled = data_dummies_scaled[data_dummies_scaled.train_test == 1].drop(['train_test'], axis =1)\n",
    "X_test_scaled = data_dummies_scaled[data_dummies_scaled.train_test == 0].drop(['train_test'], axis =1)\n",
    "\n",
    "y_train = data[data.train_test==1].Is_Lead\n",
    "\n",
    "#print('train shape: {}'.format(train_data.shape))\n",
    "#print('test shape: {}'.format(test_data.shape))"
   ]
  },
  {
   "cell_type": "code",
   "execution_count": 30,
   "metadata": {},
   "outputs": [
    {
     "data": {
      "text/plain": [
       "Index(['Age', 'Avg_Account_Balance', 'Is_Lead', 'Vintage', 'Channel_Code_X1',\n",
       "       'Channel_Code_X2', 'Channel_Code_X3', 'Channel_Code_X4',\n",
       "       'Credit_Product_No', 'Credit_Product_Yes', 'Credit_Product_unknown',\n",
       "       'Gender_Female', 'Gender_Male', 'Is_Active_No', 'Is_Active_Yes',\n",
       "       'Occupation_Entrepreneur', 'Occupation_Other', 'Occupation_Salaried',\n",
       "       'Occupation_Self_Employed', 'Region_Code_RG250', 'Region_Code_RG251',\n",
       "       'Region_Code_RG252', 'Region_Code_RG253', 'Region_Code_RG254',\n",
       "       'Region_Code_RG255', 'Region_Code_RG256', 'Region_Code_RG257',\n",
       "       'Region_Code_RG258', 'Region_Code_RG259', 'Region_Code_RG260',\n",
       "       'Region_Code_RG261', 'Region_Code_RG262', 'Region_Code_RG263',\n",
       "       'Region_Code_RG264', 'Region_Code_RG265', 'Region_Code_RG266',\n",
       "       'Region_Code_RG267', 'Region_Code_RG268', 'Region_Code_RG269',\n",
       "       'Region_Code_RG270', 'Region_Code_RG271', 'Region_Code_RG272',\n",
       "       'Region_Code_RG273', 'Region_Code_RG274', 'Region_Code_RG275',\n",
       "       'Region_Code_RG276', 'Region_Code_RG277', 'Region_Code_RG278',\n",
       "       'Region_Code_RG279', 'Region_Code_RG280', 'Region_Code_RG281',\n",
       "       'Region_Code_RG282', 'Region_Code_RG283', 'Region_Code_RG284'],\n",
       "      dtype='object')"
      ]
     },
     "execution_count": 30,
     "metadata": {},
     "output_type": "execute_result"
    }
   ],
   "source": [
    "X_train_scaled.columns"
   ]
  },
  {
   "cell_type": "code",
   "execution_count": 31,
   "metadata": {},
   "outputs": [],
   "source": [
    "X_train_scaled.drop('Is_Lead', axis=1, inplace=True)\n",
    "X_train_scaled.drop('Gender_Male', axis=1, inplace=True)\n"
   ]
  },
  {
   "cell_type": "code",
   "execution_count": 32,
   "metadata": {},
   "outputs": [],
   "source": [
    "from sklearn.model_selection import cross_val_score\n",
    "from sklearn.naive_bayes import GaussianNB\n",
    "from sklearn.linear_model import LogisticRegression\n",
    "from sklearn import tree\n",
    "from sklearn.neighbors import KNeighborsClassifier\n",
    "from sklearn.ensemble import RandomForestClassifier\n",
    "from sklearn.svm import SVC"
   ]
  },
  {
   "cell_type": "code",
   "execution_count": 33,
   "metadata": {},
   "outputs": [
    {
     "name": "stdout",
     "output_type": "stream",
     "text": [
      "[0.85321288 0.85335531 0.85351511 0.85361387 0.85377666]\n",
      "0.853494763749481\n"
     ]
    }
   ],
   "source": [
    "lr = LogisticRegression(max_iter = 2000)\n",
    "lr_cv = cross_val_score(lr,X_train_scaled,y_train,cv=5)\n",
    "print(lr_cv)\n",
    "print(lr_cv.mean())"
   ]
  },
  {
   "cell_type": "code",
   "execution_count": 34,
   "metadata": {},
   "outputs": [
    {
     "name": "stdout",
     "output_type": "stream",
     "text": [
      "[0.78934196 0.78700199 0.7855733  0.78961826 0.78949617]\n",
      "0.7882063394871685\n"
     ]
    }
   ],
   "source": [
    "dt = tree.DecisionTreeClassifier(random_state = 1)\n",
    "dt_cv = cross_val_score(dt,X_train_scaled,y_train,cv=5)\n",
    "print(dt_cv)\n",
    "print(dt_cv.mean())"
   ]
  },
  {
   "cell_type": "code",
   "execution_count": 35,
   "metadata": {},
   "outputs": [
    {
     "name": "stdout",
     "output_type": "stream",
     "text": [
      "[0.9306556  0.92957718 0.92943331 0.93232134 0.93044929]\n",
      "0.930487343729199\n"
     ]
    }
   ],
   "source": [
    "knn = KNeighborsClassifier()\n",
    "knn_cv = cross_val_score(knn,X_train,y_train,cv=5)\n",
    "print(knn_cv)\n",
    "print(knn_cv.mean())"
   ]
  },
  {
   "cell_type": "code",
   "execution_count": 36,
   "metadata": {
    "scrolled": true
   },
   "outputs": [
    {
     "name": "stdout",
     "output_type": "stream",
     "text": [
      "[0.84295772 0.84283563 0.84104182 0.84067231 0.84472163]\n",
      "0.8424458219578549\n"
     ]
    }
   ],
   "source": [
    "knn = KNeighborsClassifier()\n",
    "knn_cv_scaled = cross_val_score(knn,X_train_scaled,y_train,cv=5)\n",
    "print(knn_cv_scaled)\n",
    "print(knn_cv_scaled.mean())"
   ]
  },
  {
   "cell_type": "code",
   "execution_count": 37,
   "metadata": {},
   "outputs": [
    {
     "name": "stdout",
     "output_type": "stream",
     "text": [
      "[0.84623367 0.84582672 0.84537593 0.84364317 0.84789598]\n",
      "0.8457950940228255\n"
     ]
    }
   ],
   "source": [
    "rf = RandomForestClassifier(random_state = 1)\n",
    "rf_cv_scaled = cross_val_score(rf,X_train_scaled,y_train,cv=5)\n",
    "print(rf_cv_scaled)\n",
    "print(rf_cv_scaled.mean())"
   ]
  },
  {
   "cell_type": "code",
   "execution_count": 38,
   "metadata": {},
   "outputs": [
    {
     "name": "stdout",
     "output_type": "stream",
     "text": [
      "0.853494763749481 is the value obained by the logistic regression\n",
      "\n",
      "0.7882063394871685 is the value obained by the decision tree classifier\n",
      "\n",
      "0.930487343729199 is the value obained by the k-nearest neighbors classifier\n",
      "\n",
      "0.8457950940228255 is the value obained by the random forest scaled classifier\n",
      "\n"
     ]
    }
   ],
   "source": [
    "print(f'{lr_cv.mean()} is the value obained by the logistic regression')\n",
    "print()\n",
    "print(f'{dt_cv.mean()} is the value obained by the decision tree classifier')\n",
    "print()\n",
    "print(f'{knn_cv.mean()} is the value obained by the k-nearest neighbors classifier')\n",
    "print()\n",
    "print(f'{rf_cv_scaled.mean()} is the value obained by the random forest scaled classifier')\n",
    "print()\n"
   ]
  },
  {
   "cell_type": "code",
   "execution_count": 39,
   "metadata": {},
   "outputs": [],
   "source": [
    "def clf_performance(classifier, model_name):\n",
    "    print(model_name)\n",
    "    print('Best Score: ' + str(classifier.best_score_))\n",
    "    print('Best Parameters: ' + str(classifier.best_params_))"
   ]
  },
  {
   "cell_type": "code",
   "execution_count": 40,
   "metadata": {},
   "outputs": [
    {
     "name": "stdout",
     "output_type": "stream",
     "text": [
      "Fitting 5 folds for each of 40 candidates, totalling 200 fits\n"
     ]
    },
    {
     "name": "stderr",
     "output_type": "stream",
     "text": [
      "[Parallel(n_jobs=-1)]: Using backend LokyBackend with 8 concurrent workers.\n",
      "[Parallel(n_jobs=-1)]: Done  34 tasks      | elapsed:  1.8min\n",
      "[Parallel(n_jobs=-1)]: Done 184 tasks      | elapsed: 17.6min\n",
      "[Parallel(n_jobs=-1)]: Done 200 out of 200 | elapsed: 18.1min finished\n"
     ]
    },
    {
     "name": "stdout",
     "output_type": "stream",
     "text": [
      "Logistic Regression\n",
      "Best Score: 0.8534988299928782\n",
      "Best Parameters: {'C': 11.288378916846883, 'max_iter': 2000, 'penalty': 'l2', 'solver': 'liblinear'}\n"
     ]
    }
   ],
   "source": [
    "from sklearn.model_selection import GridSearchCV \n",
    "from sklearn.model_selection import RandomizedSearchCV \n",
    "\n",
    "lr = LogisticRegression()\n",
    "param_grid = {'max_iter' : [2000],\n",
    "              'penalty' : ['l1', 'l2'],\n",
    "              'C' : np.logspace(-4, 4, 20),\n",
    "              'solver' : ['liblinear']}\n",
    "\n",
    "clf_lr = GridSearchCV(lr, param_grid = param_grid, cv = 5, verbose = True, n_jobs = -1)\n",
    "best_clf_lr = clf_lr.fit(X_train_scaled,y_train)\n",
    "clf_performance(best_clf_lr,'Logistic Regression')"
   ]
  },
  {
   "cell_type": "code",
   "execution_count": 46,
   "metadata": {},
   "outputs": [
    {
     "data": {
      "text/html": [
       "<div>\n",
       "<style scoped>\n",
       "    .dataframe tbody tr th:only-of-type {\n",
       "        vertical-align: middle;\n",
       "    }\n",
       "\n",
       "    .dataframe tbody tr th {\n",
       "        vertical-align: top;\n",
       "    }\n",
       "\n",
       "    .dataframe thead th {\n",
       "        text-align: right;\n",
       "    }\n",
       "</style>\n",
       "<table border=\"1\" class=\"dataframe\">\n",
       "  <thead>\n",
       "    <tr style=\"text-align: right;\">\n",
       "      <th></th>\n",
       "      <th>Age</th>\n",
       "      <th>Vintage</th>\n",
       "      <th>Avg_Account_Balance</th>\n",
       "      <th>train_test</th>\n",
       "      <th>Is_Lead</th>\n",
       "    </tr>\n",
       "  </thead>\n",
       "  <tbody>\n",
       "    <tr>\n",
       "      <td>count</td>\n",
       "      <td>105312.000000</td>\n",
       "      <td>105312.000000</td>\n",
       "      <td>1.053120e+05</td>\n",
       "      <td>105312.0</td>\n",
       "      <td>0.0</td>\n",
       "    </tr>\n",
       "    <tr>\n",
       "      <td>mean</td>\n",
       "      <td>43.871002</td>\n",
       "      <td>46.842819</td>\n",
       "      <td>1.134195e+06</td>\n",
       "      <td>0.0</td>\n",
       "      <td>NaN</td>\n",
       "    </tr>\n",
       "    <tr>\n",
       "      <td>std</td>\n",
       "      <td>14.872890</td>\n",
       "      <td>32.273634</td>\n",
       "      <td>8.662430e+05</td>\n",
       "      <td>0.0</td>\n",
       "      <td>NaN</td>\n",
       "    </tr>\n",
       "    <tr>\n",
       "      <td>min</td>\n",
       "      <td>24.000000</td>\n",
       "      <td>7.000000</td>\n",
       "      <td>2.259700e+04</td>\n",
       "      <td>0.0</td>\n",
       "      <td>NaN</td>\n",
       "    </tr>\n",
       "    <tr>\n",
       "      <td>25%</td>\n",
       "      <td>30.000000</td>\n",
       "      <td>20.000000</td>\n",
       "      <td>6.039822e+05</td>\n",
       "      <td>0.0</td>\n",
       "      <td>NaN</td>\n",
       "    </tr>\n",
       "    <tr>\n",
       "      <td>50%</td>\n",
       "      <td>43.000000</td>\n",
       "      <td>32.000000</td>\n",
       "      <td>8.966345e+05</td>\n",
       "      <td>0.0</td>\n",
       "      <td>NaN</td>\n",
       "    </tr>\n",
       "    <tr>\n",
       "      <td>75%</td>\n",
       "      <td>54.000000</td>\n",
       "      <td>73.000000</td>\n",
       "      <td>1.371598e+06</td>\n",
       "      <td>0.0</td>\n",
       "      <td>NaN</td>\n",
       "    </tr>\n",
       "    <tr>\n",
       "      <td>max</td>\n",
       "      <td>85.000000</td>\n",
       "      <td>135.000000</td>\n",
       "      <td>9.908858e+06</td>\n",
       "      <td>0.0</td>\n",
       "      <td>NaN</td>\n",
       "    </tr>\n",
       "  </tbody>\n",
       "</table>\n",
       "</div>"
      ],
      "text/plain": [
       "                 Age        Vintage  Avg_Account_Balance  train_test  Is_Lead\n",
       "count  105312.000000  105312.000000         1.053120e+05    105312.0      0.0\n",
       "mean       43.871002      46.842819         1.134195e+06         0.0      NaN\n",
       "std        14.872890      32.273634         8.662430e+05         0.0      NaN\n",
       "min        24.000000       7.000000         2.259700e+04         0.0      NaN\n",
       "25%        30.000000      20.000000         6.039822e+05         0.0      NaN\n",
       "50%        43.000000      32.000000         8.966345e+05         0.0      NaN\n",
       "75%        54.000000      73.000000         1.371598e+06         0.0      NaN\n",
       "max        85.000000     135.000000         9.908858e+06         0.0      NaN"
      ]
     },
     "execution_count": 46,
     "metadata": {},
     "output_type": "execute_result"
    }
   ],
   "source": [
    "test_data.describe()"
   ]
  },
  {
   "cell_type": "code",
   "execution_count": 67,
   "metadata": {},
   "outputs": [],
   "source": [
    "\n",
    "X_test_scaled=X_test_scaled.drop(['Is_Lead'], axis =1)"
   ]
  },
  {
   "cell_type": "code",
   "execution_count": 68,
   "metadata": {},
   "outputs": [],
   "source": [
    "X_test_scaled=X_test_scaled.drop(['Gender_Male'], axis=1)"
   ]
  },
  {
   "cell_type": "code",
   "execution_count": 70,
   "metadata": {},
   "outputs": [],
   "source": [
    "y_hat_lr = best_clf_lr.best_estimator_.predict(X_test_scaled).astype(int)\n",
    "#y_hat_xgb.size best_clf_lr\n",
    "sample_submission = pd.DataFrame({'ID': test_data.ID, 'Is_Lead': y_hat_lr})\n",
    "sample_submission.to_csv('sample_submission.csv', index=False)"
   ]
  },
  {
   "cell_type": "code",
   "execution_count": null,
   "metadata": {},
   "outputs": [],
   "source": [
    "knn = KNeighborsClassifier()\n",
    "param_grid = {'n_neighbors' : [2,4,6,8],\n",
    "              'weights' : ['uniform', 'distance'],\n",
    "              'algorithm' : ['auto', 'ball_tree','kd_tree'],\n",
    "              'p' : [1,2]}\n",
    "clf_knn = GridSearchCV(knn, param_grid = param_grid, cv = 5, verbose = True, n_jobs = -1)\n",
    "best_clf_knn = clf_knn.fit(X_train_scaled,y_train)\n",
    "clf_performance(best_clf_knn,'KNN')"
   ]
  },
  {
   "cell_type": "code",
   "execution_count": null,
   "metadata": {},
   "outputs": [
    {
     "name": "stdout",
     "output_type": "stream",
     "text": [
      "Fitting 5 folds for each of 288 candidates, totalling 1440 fits\n"
     ]
    },
    {
     "name": "stderr",
     "output_type": "stream",
     "text": [
      "[Parallel(n_jobs=-1)]: Using backend LokyBackend with 8 concurrent workers.\n"
     ]
    }
   ],
   "source": [
    "rf = RandomForestClassifier(random_state = 1)\n",
    "param_grid =  {'n_estimators': [400,450,500,550],\n",
    "               'criterion':['gini','entropy'],\n",
    "                                  'bootstrap': [True],\n",
    "                                  'max_depth': [15, 20, 25],\n",
    "                                  'max_features': ['auto','sqrt', 10],\n",
    "                                  'min_samples_leaf': [2,3],\n",
    "                                  'min_samples_split': [2,3]}\n",
    "                                  \n",
    "clf_rf = GridSearchCV(rf, param_grid = param_grid, cv = 5, verbose = True, n_jobs = -1)\n",
    "best_clf_rf = clf_rf.fit(X_train_scaled,y_train)\n",
    "clf_performance(best_clf_rf,'Random Forest')"
   ]
  },
  {
   "cell_type": "code",
   "execution_count": null,
   "metadata": {},
   "outputs": [],
   "source": []
  }
 ],
 "metadata": {
  "kernelspec": {
   "display_name": "Python 3",
   "language": "python",
   "name": "python3"
  },
  "language_info": {
   "codemirror_mode": {
    "name": "ipython",
    "version": 3
   },
   "file_extension": ".py",
   "mimetype": "text/x-python",
   "name": "python",
   "nbconvert_exporter": "python",
   "pygments_lexer": "ipython3",
   "version": "3.7.4"
  }
 },
 "nbformat": 4,
 "nbformat_minor": 2
}
